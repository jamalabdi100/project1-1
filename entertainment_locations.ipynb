{
 "cells": [
  {
   "cell_type": "code",
   "execution_count": 21,
   "metadata": {},
   "outputs": [],
   "source": [
    "# Dependencies\n",
    "import pandas as pd\n",
    "import requests\n",
    "import json\n",
    "import os\n",
    "import csv\n",
    "import prettyprint as pp\n",
    "# from apiclient import errors\n",
    "\n",
    "# Google developer API key\n",
    "from api_keys import gkey"
   ]
  },
  {
   "cell_type": "code",
   "execution_count": 22,
   "metadata": {},
   "outputs": [],
   "source": [
    "world_happiness = \"world happiness data.csv\"\n",
    "location_types = \"Location_Types.csv\"\n",
    "world_happiness_df = pd.read_csv(world_happiness, encoding=\"UTF-8\")\n",
    "location_types_df = pd.read_csv(location_types, encoding=\"UTF-8\")\n",
    " # base url\n",
    "base_url = \"https://maps.googleapis.com/maps/api/place/nearbysearch/json\""
   ]
  },
  {
   "cell_type": "code",
   "execution_count": 23,
   "metadata": {},
   "outputs": [
    {
     "data": {
      "text/plain": [
       "['amusement_park',\n",
       " 'aquarium',\n",
       " 'art_gallery',\n",
       " 'movie_theater',\n",
       " 'night_club',\n",
       " 'stadium',\n",
       " 'tourist_attraction',\n",
       " 'zoo']"
      ]
     },
     "execution_count": 23,
     "metadata": {},
     "output_type": "execute_result"
    }
   ],
   "source": [
    "entertainment_location_types = location_types_df.loc[location_types_df[\"sub_type\"]\n",
    "                                               ==\"Entertainment\",:]\n",
    "entertainment_types_list = []\n",
    "entertainment_location_types.reset_index(inplace=True)\n",
    "for i in range(len(entertainment_location_types)):\n",
    "    entertainment_types_list.append(entertainment_location_types.loc[i,\"location_types\"])\n",
    "\n",
    "entertainment_types_list"
   ]
  },
  {
   "cell_type": "code",
   "execution_count": 26,
   "metadata": {},
   "outputs": [
    {
     "data": {
      "text/plain": [
       "['60.16985569999999,24.9383791',\n",
       " '59.9138688,10.7522454',\n",
       " '45.4215296,-75.69719309999999',\n",
       " '38.9071923,-77.0368707',\n",
       " '41.9027835,12.4963655',\n",
       " '35.6761919,139.6503106',\n",
       " '44.8608086,-93.660106',\n",
       " '39.90419989999999,116.4073963',\n",
       " '28.6461322,77.1964488',\n",
       " '-24.6282079,25.9231471',\n",
       " '34.5553494,69.207486']"
      ]
     },
     "execution_count": 26,
     "metadata": {},
     "output_type": "execute_result"
    }
   ],
   "source": [
    "base_url = \"https://maps.googleapis.com/maps/api/geocode/json\"\n",
    "coord=[]\n",
    "cities=[\"Helsinki\",\"Oslo\",\"Ottawa\",\"Washington D.C\",\"Rome\",\"Tokyo\",\"City of Victoria\",\"Beijing\",\"Dhaka\"\",New Delhi\",\"Gaborone\",\"Kabul\"]\n",
    "for city in cities:\n",
    "    params = {\"address\": city, \"key\":gkey}\n",
    "    response = requests.get(base_url, params=params)\n",
    "    places_data = response.json()   \n",
    "    lat=places_data[\"results\"][0][\"geometry\"][\"location\"][\"lat\"]\n",
    "    long=places_data[\"results\"][0][\"geometry\"][\"location\"][\"lng\"]\n",
    "    coord.append(f\"{lat},{long}\")\n",
    "coord"
   ]
  },
  {
   "cell_type": "code",
   "execution_count": 32,
   "metadata": {},
   "outputs": [
    {
     "data": {
      "text/plain": [
       "[0, 1, 0, 0, 1, 0, 0, 0, 0, 0, 0]"
      ]
     },
     "execution_count": 32,
     "metadata": {},
     "output_type": "execute_result"
    }
   ],
   "source": [
    "#Use for loop to calculate amusement parks\n",
    "place_url = \"https://maps.googleapis.com/maps/api/place/nearbysearch/json\"\n",
    "target_type =\"amusement park\"\n",
    "count_amusmt_pk=[]\n",
    "\n",
    "for lat in coord:\n",
    "    params = {\"location\":lat,\"key\": gkey,\"keyword\":target_type, \"radius\":750}\n",
    "    places_data = requests.get(place_url, params=params).json()\n",
    "    count_amusmt_pk.append(len(places_data[\"results\"]))\n",
    "   \n",
    "count_amusmt_pk"
   ]
  },
  {
   "cell_type": "code",
   "execution_count": 33,
   "metadata": {},
   "outputs": [
    {
     "data": {
      "text/plain": [
       "[2, 3, 2, 0, 1, 0, 0, 2, 1, 0, 0]"
      ]
     },
     "execution_count": 33,
     "metadata": {},
     "output_type": "execute_result"
    }
   ],
   "source": [
    "#Use for loop to calculate aquariums\n",
    "\n",
    "target_type =\"aquarium\"\n",
    "count_aquariums=[]\n",
    "\n",
    "for lat in coord:\n",
    "    params = {\"location\":lat,\"key\": gkey,\"keyword\":target_type, \"radius\":750}\n",
    "    places_data = requests.get(place_url, params=params).json()\n",
    "    count_aquariums.append(len(places_data[\"results\"]))\n",
    "\n",
    "count_aquariums\n"
   ]
  },
  {
   "cell_type": "code",
   "execution_count": 7,
   "metadata": {},
   "outputs": [
    {
     "data": {
      "text/plain": [
       "['amusement_park',\n",
       " 'aquarium',\n",
       " 'art_gallery',\n",
       " 'movie_theater',\n",
       " 'night_club',\n",
       " 'stadium',\n",
       " 'tourist_attraction',\n",
       " 'zoo']"
      ]
     },
     "execution_count": 7,
     "metadata": {},
     "output_type": "execute_result"
    }
   ],
   "source": [
    "entertainment_types_list"
   ]
  },
  {
   "cell_type": "code",
   "execution_count": 34,
   "metadata": {},
   "outputs": [
    {
     "data": {
      "text/plain": [
       "[20, 20, 18, 20, 20, 5, 2, 1, 8, 5, 0]"
      ]
     },
     "execution_count": 34,
     "metadata": {},
     "output_type": "execute_result"
    }
   ],
   "source": [
    "#Use for loop to calculate art galleries\n",
    "target_type =\"art gallery\"\n",
    "count_art_galleries=[]\n",
    "\n",
    "for lat in coord:\n",
    "    params = {\"location\":lat,\"key\": gkey,\"keyword\":target_type, \"radius\":750}\n",
    "    places_data = requests.get(place_url, params=params).json()\n",
    "    count_art_galleries.append(len(places_data[\"results\"]))\n",
    "\n",
    "count_art_galleries\n"
   ]
  },
  {
   "cell_type": "code",
   "execution_count": 35,
   "metadata": {},
   "outputs": [
    {
     "data": {
      "text/plain": [
       "[12, 7, 7, 1, 20, 0, 1, 14, 4, 0, 1]"
      ]
     },
     "execution_count": 35,
     "metadata": {},
     "output_type": "execute_result"
    }
   ],
   "source": [
    "#Use for loop to calculate movie theaters\n",
    "target_type =\"movie theater\"\n",
    "count_movie_theaters=[]\n",
    "\n",
    "for lat in coord:\n",
    "    params = {\"location\":lat,\"key\": gkey,\"keyword\":target_type, \"radius\":750}\n",
    "    places_data = requests.get(place_url, params=params).json()\n",
    "    count_movie_theaters.append(len(places_data[\"results\"]))\n",
    "\n",
    "count_movie_theaters"
   ]
  },
  {
   "cell_type": "code",
   "execution_count": 36,
   "metadata": {},
   "outputs": [
    {
     "data": {
      "text/plain": [
       "[20, 20, 20, 20, 20, 0, 0, 15, 8, 2, 1]"
      ]
     },
     "execution_count": 36,
     "metadata": {},
     "output_type": "execute_result"
    }
   ],
   "source": [
    "#Use for loop to calculate night clubs\n",
    "target_type =\"night club\"\n",
    "count_clubs=[]\n",
    "\n",
    "for lat in coord:\n",
    "    params = {\"location\":lat,\"key\": gkey,\"keyword\":target_type, \"radius\":750}\n",
    "    places_data = requests.get(place_url, params=params).json()\n",
    "    count_clubs.append(len(places_data[\"results\"]))\n",
    "\n",
    "count_clubs"
   ]
  },
  {
   "cell_type": "code",
   "execution_count": 37,
   "metadata": {},
   "outputs": [
    {
     "data": {
      "text/plain": [
       "[6, 5, 2, 1, 0, 0, 0, 5, 0, 1, 0]"
      ]
     },
     "execution_count": 37,
     "metadata": {},
     "output_type": "execute_result"
    }
   ],
   "source": [
    "#Use for loop to calculate tourist attractions\n",
    "target_type =\"stadium\"\n",
    "count_stadiums=[]\n",
    "\n",
    "for lat in coord:\n",
    "    params = {\"location\":lat,\"key\": gkey,\"keyword\":target_type, \"radius\":750}\n",
    "    places_data = requests.get(place_url, params=params).json()\n",
    "    count_stadiums.append(len(places_data[\"results\"]))\n",
    "\n",
    "    \n",
    "count_stadiums"
   ]
  },
  {
   "cell_type": "code",
   "execution_count": 38,
   "metadata": {},
   "outputs": [
    {
     "data": {
      "text/plain": [
       "[20, 13, 20, 11, 20, 1, 0, 20, 2, 2, 0]"
      ]
     },
     "execution_count": 38,
     "metadata": {},
     "output_type": "execute_result"
    }
   ],
   "source": [
    "#Use for loop to calculate tourist attractions\n",
    "target_type =\"tourist attraction\"\n",
    "count_tourist_attractions=[]\n",
    "\n",
    "for lat in coord:\n",
    "    params = {\"location\":lat,\"key\": gkey,\"keyword\":target_type, \"radius\":750}\n",
    "    places_data = requests.get(place_url, params=params).json()\n",
    "    count_tourist_attractions.append(len(places_data[\"results\"]))\n",
    "\n",
    "    \n",
    "count_tourist_attractions"
   ]
  },
  {
   "cell_type": "code",
   "execution_count": 39,
   "metadata": {},
   "outputs": [
    {
     "data": {
      "text/plain": [
       "[4, 2, 0, 0, 1, 0, 0, 1, 0, 0, 0]"
      ]
     },
     "execution_count": 39,
     "metadata": {},
     "output_type": "execute_result"
    }
   ],
   "source": [
    "#Use for loop to calculate zoos\n",
    "target_type =\"zoo\"\n",
    "count_zoos=[]\n",
    "\n",
    "for lat in coord:\n",
    "    params = {\"location\":lat,\"key\": gkey,\"keyword\":target_type, \"radius\":750}\n",
    "    places_data = requests.get(place_url, params=params).json()\n",
    "    count_zoos.append(len(places_data[\"results\"]))\n",
    "\n",
    "    \n",
    "count_zoos"
   ]
  },
  {
   "cell_type": "code",
   "execution_count": 40,
   "metadata": {},
   "outputs": [
    {
     "data": {
      "text/html": [
       "<div>\n",
       "<style scoped>\n",
       "    .dataframe tbody tr th:only-of-type {\n",
       "        vertical-align: middle;\n",
       "    }\n",
       "\n",
       "    .dataframe tbody tr th {\n",
       "        vertical-align: top;\n",
       "    }\n",
       "\n",
       "    .dataframe thead th {\n",
       "        text-align: right;\n",
       "    }\n",
       "</style>\n",
       "<table border=\"1\" class=\"dataframe\">\n",
       "  <thead>\n",
       "    <tr style=\"text-align: right;\">\n",
       "      <th></th>\n",
       "      <th>Cities</th>\n",
       "      <th>Stadiums</th>\n",
       "      <th>Movie Theathers</th>\n",
       "      <th>Night Clubs</th>\n",
       "      <th>Art Galleries</th>\n",
       "      <th>Tourist Attractions</th>\n",
       "      <th>Zoos</th>\n",
       "      <th>Aquariums</th>\n",
       "      <th>Amusement Parks</th>\n",
       "    </tr>\n",
       "  </thead>\n",
       "  <tbody>\n",
       "    <tr>\n",
       "      <th>0</th>\n",
       "      <td>Helsinki</td>\n",
       "      <td>6</td>\n",
       "      <td>12</td>\n",
       "      <td>20</td>\n",
       "      <td>20</td>\n",
       "      <td>20</td>\n",
       "      <td>4</td>\n",
       "      <td>2</td>\n",
       "      <td>0</td>\n",
       "    </tr>\n",
       "    <tr>\n",
       "      <th>1</th>\n",
       "      <td>Oslo</td>\n",
       "      <td>5</td>\n",
       "      <td>7</td>\n",
       "      <td>20</td>\n",
       "      <td>20</td>\n",
       "      <td>13</td>\n",
       "      <td>2</td>\n",
       "      <td>3</td>\n",
       "      <td>1</td>\n",
       "    </tr>\n",
       "    <tr>\n",
       "      <th>2</th>\n",
       "      <td>Ottawa</td>\n",
       "      <td>2</td>\n",
       "      <td>7</td>\n",
       "      <td>20</td>\n",
       "      <td>18</td>\n",
       "      <td>20</td>\n",
       "      <td>0</td>\n",
       "      <td>2</td>\n",
       "      <td>0</td>\n",
       "    </tr>\n",
       "    <tr>\n",
       "      <th>3</th>\n",
       "      <td>Washington D.C</td>\n",
       "      <td>1</td>\n",
       "      <td>1</td>\n",
       "      <td>20</td>\n",
       "      <td>20</td>\n",
       "      <td>11</td>\n",
       "      <td>0</td>\n",
       "      <td>0</td>\n",
       "      <td>0</td>\n",
       "    </tr>\n",
       "    <tr>\n",
       "      <th>4</th>\n",
       "      <td>Rome</td>\n",
       "      <td>0</td>\n",
       "      <td>20</td>\n",
       "      <td>20</td>\n",
       "      <td>20</td>\n",
       "      <td>20</td>\n",
       "      <td>1</td>\n",
       "      <td>1</td>\n",
       "      <td>1</td>\n",
       "    </tr>\n",
       "    <tr>\n",
       "      <th>5</th>\n",
       "      <td>Tokyo</td>\n",
       "      <td>0</td>\n",
       "      <td>0</td>\n",
       "      <td>0</td>\n",
       "      <td>5</td>\n",
       "      <td>1</td>\n",
       "      <td>0</td>\n",
       "      <td>0</td>\n",
       "      <td>0</td>\n",
       "    </tr>\n",
       "    <tr>\n",
       "      <th>6</th>\n",
       "      <td>City of Victoria</td>\n",
       "      <td>0</td>\n",
       "      <td>1</td>\n",
       "      <td>0</td>\n",
       "      <td>2</td>\n",
       "      <td>0</td>\n",
       "      <td>0</td>\n",
       "      <td>0</td>\n",
       "      <td>0</td>\n",
       "    </tr>\n",
       "    <tr>\n",
       "      <th>7</th>\n",
       "      <td>Beijing</td>\n",
       "      <td>5</td>\n",
       "      <td>14</td>\n",
       "      <td>15</td>\n",
       "      <td>1</td>\n",
       "      <td>20</td>\n",
       "      <td>1</td>\n",
       "      <td>2</td>\n",
       "      <td>0</td>\n",
       "    </tr>\n",
       "    <tr>\n",
       "      <th>8</th>\n",
       "      <td>Dhaka,New Delhi</td>\n",
       "      <td>0</td>\n",
       "      <td>4</td>\n",
       "      <td>8</td>\n",
       "      <td>8</td>\n",
       "      <td>2</td>\n",
       "      <td>0</td>\n",
       "      <td>1</td>\n",
       "      <td>0</td>\n",
       "    </tr>\n",
       "    <tr>\n",
       "      <th>9</th>\n",
       "      <td>Gaborone</td>\n",
       "      <td>1</td>\n",
       "      <td>0</td>\n",
       "      <td>2</td>\n",
       "      <td>5</td>\n",
       "      <td>2</td>\n",
       "      <td>0</td>\n",
       "      <td>0</td>\n",
       "      <td>0</td>\n",
       "    </tr>\n",
       "    <tr>\n",
       "      <th>10</th>\n",
       "      <td>Kabul</td>\n",
       "      <td>0</td>\n",
       "      <td>1</td>\n",
       "      <td>1</td>\n",
       "      <td>0</td>\n",
       "      <td>0</td>\n",
       "      <td>0</td>\n",
       "      <td>0</td>\n",
       "      <td>0</td>\n",
       "    </tr>\n",
       "  </tbody>\n",
       "</table>\n",
       "</div>"
      ],
      "text/plain": [
       "              Cities  Stadiums  Movie Theathers  Night Clubs  Art Galleries  \\\n",
       "0           Helsinki         6               12           20             20   \n",
       "1               Oslo         5                7           20             20   \n",
       "2             Ottawa         2                7           20             18   \n",
       "3     Washington D.C         1                1           20             20   \n",
       "4               Rome         0               20           20             20   \n",
       "5              Tokyo         0                0            0              5   \n",
       "6   City of Victoria         0                1            0              2   \n",
       "7            Beijing         5               14           15              1   \n",
       "8    Dhaka,New Delhi         0                4            8              8   \n",
       "9           Gaborone         1                0            2              5   \n",
       "10             Kabul         0                1            1              0   \n",
       "\n",
       "    Tourist Attractions  Zoos  Aquariums  Amusement Parks  \n",
       "0                    20     4          2                0  \n",
       "1                    13     2          3                1  \n",
       "2                    20     0          2                0  \n",
       "3                    11     0          0                0  \n",
       "4                    20     1          1                1  \n",
       "5                     1     0          0                0  \n",
       "6                     0     0          0                0  \n",
       "7                    20     1          2                0  \n",
       "8                     2     0          1                0  \n",
       "9                     2     0          0                0  \n",
       "10                    0     0          0                0  "
      ]
     },
     "execution_count": 40,
     "metadata": {},
     "output_type": "execute_result"
    }
   ],
   "source": [
    "entertainment_dict = {\"Cities\":cities,\"Stadiums\":count_stadiums, \"Movie Theathers\":count_movie_theaters,\"Night Clubs\":count_clubs,\"Art Galleries\":count_art_galleries, \n",
    "                      \"Tourist Attractions\": count_tourist_attractions, \"Zoos\":count_zoos,\"Aquariums\":count_aquariums, \"Amusement Parks\":count_amusmt_pk}\n",
    "             \n",
    "\n",
    "entertainment_data_df = pd.DataFrame(entertainment_dict)\n",
    "entertainment_data_df"
   ]
  },
  {
   "cell_type": "code",
   "execution_count": 50,
   "metadata": {},
   "outputs": [
    {
     "name": "stdout",
     "output_type": "stream",
     "text": [
      "0     84\n",
      "1     71\n",
      "2     69\n",
      "3     53\n",
      "4     83\n",
      "5      6\n",
      "6      3\n",
      "7     58\n",
      "8     23\n",
      "9     10\n",
      "10     2\n",
      "dtype: int64\n"
     ]
    }
   ],
   "source": [
    "#sum the totals of each row\n",
    "sum_rows= entertainment_data_df.sum(axis=1)\n"
   ]
  },
  {
   "cell_type": "code",
   "execution_count": 53,
   "metadata": {},
   "outputs": [
    {
     "data": {
      "text/html": [
       "<div>\n",
       "<style scoped>\n",
       "    .dataframe tbody tr th:only-of-type {\n",
       "        vertical-align: middle;\n",
       "    }\n",
       "\n",
       "    .dataframe tbody tr th {\n",
       "        vertical-align: top;\n",
       "    }\n",
       "\n",
       "    .dataframe thead th {\n",
       "        text-align: right;\n",
       "    }\n",
       "</style>\n",
       "<table border=\"1\" class=\"dataframe\">\n",
       "  <thead>\n",
       "    <tr style=\"text-align: right;\">\n",
       "      <th></th>\n",
       "      <th>Cities</th>\n",
       "      <th>Stadiums</th>\n",
       "      <th>Movie Theathers</th>\n",
       "      <th>Night Clubs</th>\n",
       "      <th>Art Galleries</th>\n",
       "      <th>Tourist Attractions</th>\n",
       "      <th>Zoos</th>\n",
       "      <th>Aquariums</th>\n",
       "      <th>Amusement Parks</th>\n",
       "      <th>Total</th>\n",
       "    </tr>\n",
       "  </thead>\n",
       "  <tbody>\n",
       "    <tr>\n",
       "      <th>0</th>\n",
       "      <td>Helsinki</td>\n",
       "      <td>6</td>\n",
       "      <td>12</td>\n",
       "      <td>20</td>\n",
       "      <td>20</td>\n",
       "      <td>20</td>\n",
       "      <td>4</td>\n",
       "      <td>2</td>\n",
       "      <td>0</td>\n",
       "      <td>84</td>\n",
       "    </tr>\n",
       "    <tr>\n",
       "      <th>1</th>\n",
       "      <td>Oslo</td>\n",
       "      <td>5</td>\n",
       "      <td>7</td>\n",
       "      <td>20</td>\n",
       "      <td>20</td>\n",
       "      <td>13</td>\n",
       "      <td>2</td>\n",
       "      <td>3</td>\n",
       "      <td>1</td>\n",
       "      <td>71</td>\n",
       "    </tr>\n",
       "    <tr>\n",
       "      <th>2</th>\n",
       "      <td>Ottawa</td>\n",
       "      <td>2</td>\n",
       "      <td>7</td>\n",
       "      <td>20</td>\n",
       "      <td>18</td>\n",
       "      <td>20</td>\n",
       "      <td>0</td>\n",
       "      <td>2</td>\n",
       "      <td>0</td>\n",
       "      <td>69</td>\n",
       "    </tr>\n",
       "    <tr>\n",
       "      <th>3</th>\n",
       "      <td>Washington D.C</td>\n",
       "      <td>1</td>\n",
       "      <td>1</td>\n",
       "      <td>20</td>\n",
       "      <td>20</td>\n",
       "      <td>11</td>\n",
       "      <td>0</td>\n",
       "      <td>0</td>\n",
       "      <td>0</td>\n",
       "      <td>53</td>\n",
       "    </tr>\n",
       "    <tr>\n",
       "      <th>4</th>\n",
       "      <td>Rome</td>\n",
       "      <td>0</td>\n",
       "      <td>20</td>\n",
       "      <td>20</td>\n",
       "      <td>20</td>\n",
       "      <td>20</td>\n",
       "      <td>1</td>\n",
       "      <td>1</td>\n",
       "      <td>1</td>\n",
       "      <td>83</td>\n",
       "    </tr>\n",
       "    <tr>\n",
       "      <th>5</th>\n",
       "      <td>Tokyo</td>\n",
       "      <td>0</td>\n",
       "      <td>0</td>\n",
       "      <td>0</td>\n",
       "      <td>5</td>\n",
       "      <td>1</td>\n",
       "      <td>0</td>\n",
       "      <td>0</td>\n",
       "      <td>0</td>\n",
       "      <td>6</td>\n",
       "    </tr>\n",
       "    <tr>\n",
       "      <th>6</th>\n",
       "      <td>City of Victoria</td>\n",
       "      <td>0</td>\n",
       "      <td>1</td>\n",
       "      <td>0</td>\n",
       "      <td>2</td>\n",
       "      <td>0</td>\n",
       "      <td>0</td>\n",
       "      <td>0</td>\n",
       "      <td>0</td>\n",
       "      <td>3</td>\n",
       "    </tr>\n",
       "    <tr>\n",
       "      <th>7</th>\n",
       "      <td>Beijing</td>\n",
       "      <td>5</td>\n",
       "      <td>14</td>\n",
       "      <td>15</td>\n",
       "      <td>1</td>\n",
       "      <td>20</td>\n",
       "      <td>1</td>\n",
       "      <td>2</td>\n",
       "      <td>0</td>\n",
       "      <td>58</td>\n",
       "    </tr>\n",
       "    <tr>\n",
       "      <th>8</th>\n",
       "      <td>Dhaka,New Delhi</td>\n",
       "      <td>0</td>\n",
       "      <td>4</td>\n",
       "      <td>8</td>\n",
       "      <td>8</td>\n",
       "      <td>2</td>\n",
       "      <td>0</td>\n",
       "      <td>1</td>\n",
       "      <td>0</td>\n",
       "      <td>23</td>\n",
       "    </tr>\n",
       "    <tr>\n",
       "      <th>9</th>\n",
       "      <td>Gaborone</td>\n",
       "      <td>1</td>\n",
       "      <td>0</td>\n",
       "      <td>2</td>\n",
       "      <td>5</td>\n",
       "      <td>2</td>\n",
       "      <td>0</td>\n",
       "      <td>0</td>\n",
       "      <td>0</td>\n",
       "      <td>10</td>\n",
       "    </tr>\n",
       "    <tr>\n",
       "      <th>10</th>\n",
       "      <td>Kabul</td>\n",
       "      <td>0</td>\n",
       "      <td>1</td>\n",
       "      <td>1</td>\n",
       "      <td>0</td>\n",
       "      <td>0</td>\n",
       "      <td>0</td>\n",
       "      <td>0</td>\n",
       "      <td>0</td>\n",
       "      <td>2</td>\n",
       "    </tr>\n",
       "  </tbody>\n",
       "</table>\n",
       "</div>"
      ],
      "text/plain": [
       "              Cities  Stadiums  Movie Theathers  Night Clubs  Art Galleries  \\\n",
       "0           Helsinki         6               12           20             20   \n",
       "1               Oslo         5                7           20             20   \n",
       "2             Ottawa         2                7           20             18   \n",
       "3     Washington D.C         1                1           20             20   \n",
       "4               Rome         0               20           20             20   \n",
       "5              Tokyo         0                0            0              5   \n",
       "6   City of Victoria         0                1            0              2   \n",
       "7            Beijing         5               14           15              1   \n",
       "8    Dhaka,New Delhi         0                4            8              8   \n",
       "9           Gaborone         1                0            2              5   \n",
       "10             Kabul         0                1            1              0   \n",
       "\n",
       "    Tourist Attractions  Zoos  Aquariums  Amusement Parks  Total  \n",
       "0                    20     4          2                0     84  \n",
       "1                    13     2          3                1     71  \n",
       "2                    20     0          2                0     69  \n",
       "3                    11     0          0                0     53  \n",
       "4                    20     1          1                1     83  \n",
       "5                     1     0          0                0      6  \n",
       "6                     0     0          0                0      3  \n",
       "7                    20     1          2                0     58  \n",
       "8                     2     0          1                0     23  \n",
       "9                     2     0          0                0     10  \n",
       "10                    0     0          0                0      2  "
      ]
     },
     "execution_count": 53,
     "metadata": {},
     "output_type": "execute_result"
    }
   ],
   "source": [
    "#Add to dataframe\n",
    "entertainment_data_df[\"Total\"]=sum_rows\n",
    "entertainment_data_df"
   ]
  }
 ],
 "metadata": {
  "kernelspec": {
   "display_name": "Python [conda env:PythonData] *",
   "language": "python",
   "name": "conda-env-PythonData-py"
  },
  "language_info": {
   "codemirror_mode": {
    "name": "ipython",
    "version": 3
   },
   "file_extension": ".py",
   "mimetype": "text/x-python",
   "name": "python",
   "nbconvert_exporter": "python",
   "pygments_lexer": "ipython3",
   "version": "3.6.12"
  }
 },
 "nbformat": 4,
 "nbformat_minor": 4
}
