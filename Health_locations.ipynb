{
 "cells": [
  {
   "cell_type": "code",
   "execution_count": 1,
   "metadata": {},
   "outputs": [],
   "source": [
    "# Dependencies\n",
    "import pandas as pd\n",
    "import requests\n",
    "import json\n",
    "import os\n",
    "import csv\n",
    "import prettyprint as pp\n",
    "import matplotlib.pyplot as plt\n",
    "# from apiclient import errors\n",
    "\n",
    "# Google developer API key\n",
    "from api_keys import gkey"
   ]
  },
  {
   "cell_type": "code",
   "execution_count": 2,
   "metadata": {},
   "outputs": [],
   "source": [
    "world_happiness = \"Selected_cities_2020.csv\"\n",
    "location_types = \"Location_Types.csv\"\n",
    "world_happiness_df = pd.read_csv(world_happiness, encoding=\"UTF-8\")\n",
    "location_types_df = pd.read_csv(location_types, encoding=\"UTF-8\")\n",
    " # base url\n",
    "places_url = \"https://maps.googleapis.com/maps/api/place/nearbysearch/json\""
   ]
  },
  {
   "cell_type": "code",
   "execution_count": 3,
   "metadata": {},
   "outputs": [
    {
     "data": {
      "text/plain": [
       "['dentist', 'doctor', 'gym', 'hospital', 'pharmacy', 'physiotherapist']"
      ]
     },
     "execution_count": 3,
     "metadata": {},
     "output_type": "execute_result"
    }
   ],
   "source": [
    "health_location_types = location_types_df.loc[location_types_df[\"sub_type\"]\n",
    "                                               ==\"Health\",:]\n",
    "health_types_list = []\n",
    "health_location_types.reset_index(inplace=True)\n",
    "for i in range(len(health_location_types)):\n",
    "    health_types_list.append(health_location_types.loc[i,\"location_types\"])\n",
    "\n",
    "health_types_list"
   ]
  },
  {
   "cell_type": "code",
   "execution_count": 4,
   "metadata": {},
   "outputs": [
    {
     "data": {
      "text/plain": [
       "['60.16985569999999,24.9383791',\n",
       " '59.32932349999999,18.0685808',\n",
       " '38.9071923,-77.0368707',\n",
       " '50.8503396,4.3517103',\n",
       " '-34.9011127,-56.16453139999999',\n",
       " '44.4267674,26.1025384',\n",
       " '33.6844202,73.04788479999999',\n",
       " '5.6037168,-0.1869644',\n",
       " '33.315241,44.3660671',\n",
       " '0.3475964,32.5825197',\n",
       " '-24.6282079,25.9231471']"
      ]
     },
     "execution_count": 4,
     "metadata": {},
     "output_type": "execute_result"
    }
   ],
   "source": [
    "base_url = \"https://maps.googleapis.com/maps/api/geocode/json\"\n",
    "coord=[]\n",
    "cities=[\"Helsinki\",\"Stockholm\",\"Washington D.C\",\"Brussels\",\"Montevideo\",\"Bocharest\", \"Islamabad\", \"Accra\",\"Bhagdad\",\"Kampala\",\"Gaborone\"]\n",
    "for city in cities:\n",
    "    params = {\"address\": city, \"key\":gkey}\n",
    "    response = requests.get(base_url, params=params)\n",
    "    places_data = response.json()   \n",
    "    lat=places_data[\"results\"][0][\"geometry\"][\"location\"][\"lat\"]\n",
    "    long=places_data[\"results\"][0][\"geometry\"][\"location\"][\"lng\"]\n",
    "    coord.append(f\"{lat},{long}\")\n",
    "coord"
   ]
  },
  {
   "cell_type": "code",
   "execution_count": 5,
   "metadata": {},
   "outputs": [
    {
     "data": {
      "text/plain": [
       "[2, 1, 2, 2, 6, 3, 0, 2, 1, 3, 1]"
      ]
     },
     "execution_count": 5,
     "metadata": {},
     "output_type": "execute_result"
    }
   ],
   "source": [
    "#Use for loop to calculate hospitals\n",
    "\n",
    "target_type =\"hospital\"\n",
    "count_hospitals=[]\n",
    "\n",
    "for lat in coord:\n",
    "    params = {\"location\":lat,\"key\": gkey,\"keyword\":target_type, \"radius\":750}\n",
    "    places_data = requests.get(places_url, params=params).json()\n",
    "    count_hospitals.append(len(places_data[\"results\"]))\n",
    "    \n",
    "count_hospitals"
   ]
  },
  {
   "cell_type": "code",
   "execution_count": 6,
   "metadata": {},
   "outputs": [
    {
     "data": {
      "text/plain": [
       "[20, 20, 20, 8, 17, 18, 2, 4, 8, 4, 1]"
      ]
     },
     "execution_count": 6,
     "metadata": {},
     "output_type": "execute_result"
    }
   ],
   "source": [
    "#Use for loop to calculate dentists\n",
    "\n",
    "target_type =\"dentist\"\n",
    "count_dentists=[]\n",
    "\n",
    "for lat in coord:\n",
    "    params = {\"location\":lat,\"key\": gkey,\"keyword\":target_type, \"radius\":750}\n",
    "    places_data = requests.get(places_url, params=params).json()\n",
    "    count_dentists.append(len(places_data[\"results\"]))\n",
    "\n",
    "count_dentists"
   ]
  },
  {
   "cell_type": "code",
   "execution_count": 7,
   "metadata": {},
   "outputs": [
    {
     "data": {
      "text/plain": [
       "['dentist', 'doctor', 'gym', 'hospital', 'pharmacy', 'physiotherapist']"
      ]
     },
     "execution_count": 7,
     "metadata": {},
     "output_type": "execute_result"
    }
   ],
   "source": [
    "health_types_list"
   ]
  },
  {
   "cell_type": "code",
   "execution_count": 8,
   "metadata": {},
   "outputs": [
    {
     "data": {
      "text/plain": [
       "[20, 20, 20, 20, 20, 20, 7, 7, 20, 6, 5]"
      ]
     },
     "execution_count": 8,
     "metadata": {},
     "output_type": "execute_result"
    }
   ],
   "source": [
    "#Use for loop to calculate doctors\n",
    "target_type =\"doctor\"\n",
    "count_doctors=[]\n",
    "\n",
    "for lat in coord:\n",
    "    params = {\"location\":lat,\"key\": gkey,\"keyword\":target_type, \"radius\":750}\n",
    "    places_data = requests.get(places_url, params=params).json()\n",
    "    count_doctors.append(len(places_data[\"results\"]))\n",
    "\n",
    "count_doctors"
   ]
  },
  {
   "cell_type": "code",
   "execution_count": 9,
   "metadata": {},
   "outputs": [
    {
     "data": {
      "text/plain": [
       "[20, 20, 20, 15, 20, 19, 4, 7, 3, 3, 1]"
      ]
     },
     "execution_count": 9,
     "metadata": {},
     "output_type": "execute_result"
    }
   ],
   "source": [
    "#Use for loop to calculate doctors\n",
    "target_type =\"gym\"\n",
    "count_gyms=[]\n",
    "\n",
    "for lat in coord:\n",
    "    params = {\"location\":lat,\"key\": gkey,\"keyword\":target_type, \"radius\":750}\n",
    "    places_data = requests.get(places_url, params=params).json()\n",
    "    count_gyms.append(len(places_data[\"results\"]))\n",
    "\n",
    "count_gyms"
   ]
  },
  {
   "cell_type": "code",
   "execution_count": 10,
   "metadata": {},
   "outputs": [
    {
     "data": {
      "text/plain": [
       "[18, 20, 20, 20, 20, 20, 4, 11, 20, 8, 4]"
      ]
     },
     "execution_count": 10,
     "metadata": {},
     "output_type": "execute_result"
    }
   ],
   "source": [
    "\n",
    "#Use for loop to calculate doctors\n",
    "target_type =\"pharmacy\"\n",
    "count_pharmacies=[]\n",
    "\n",
    "for lat in coord:\n",
    "    params = {\"location\":lat,\"key\": gkey,\"keyword\":target_type, \"radius\":750}\n",
    "    places_data = requests.get(places_url, params=params).json()\n",
    "    count_pharmacies.append(len(places_data[\"results\"]))\n",
    "\n",
    "count_pharmacies"
   ]
  },
  {
   "cell_type": "code",
   "execution_count": 11,
   "metadata": {},
   "outputs": [
    {
     "data": {
      "text/plain": [
       "[10, 5, 16, 6, 0, 2, 0, 1, 0, 5, 2]"
      ]
     },
     "execution_count": 11,
     "metadata": {},
     "output_type": "execute_result"
    }
   ],
   "source": [
    "\n",
    "#Use for loop to calculate doctors\n",
    "target_type =\"physiotherapist\"\n",
    "count_physio=[]\n",
    "\n",
    "for lat in coord:\n",
    "    params = {\"location\":lat,\"key\": gkey,\"keyword\":target_type, \"radius\":750}\n",
    "    places_data = requests.get(places_url, params=params).json()\n",
    "    count_physio.append(len(places_data[\"results\"]))\n",
    "\n",
    "    \n",
    "count_physio"
   ]
  },
  {
   "cell_type": "code",
   "execution_count": 12,
   "metadata": {
    "scrolled": true
   },
   "outputs": [
    {
     "data": {
      "text/html": [
       "<div>\n",
       "<style scoped>\n",
       "    .dataframe tbody tr th:only-of-type {\n",
       "        vertical-align: middle;\n",
       "    }\n",
       "\n",
       "    .dataframe tbody tr th {\n",
       "        vertical-align: top;\n",
       "    }\n",
       "\n",
       "    .dataframe thead th {\n",
       "        text-align: right;\n",
       "    }\n",
       "</style>\n",
       "<table border=\"1\" class=\"dataframe\">\n",
       "  <thead>\n",
       "    <tr style=\"text-align: right;\">\n",
       "      <th></th>\n",
       "      <th>Cities</th>\n",
       "      <th>Hospitals</th>\n",
       "      <th>Doctors</th>\n",
       "      <th>Dentists</th>\n",
       "      <th>Gyms</th>\n",
       "      <th>Pharmacies</th>\n",
       "      <th>Physiotherapists</th>\n",
       "    </tr>\n",
       "  </thead>\n",
       "  <tbody>\n",
       "    <tr>\n",
       "      <th>0</th>\n",
       "      <td>Helsinki</td>\n",
       "      <td>2</td>\n",
       "      <td>20</td>\n",
       "      <td>20</td>\n",
       "      <td>20</td>\n",
       "      <td>18</td>\n",
       "      <td>10</td>\n",
       "    </tr>\n",
       "    <tr>\n",
       "      <th>1</th>\n",
       "      <td>Stockholm</td>\n",
       "      <td>1</td>\n",
       "      <td>20</td>\n",
       "      <td>20</td>\n",
       "      <td>20</td>\n",
       "      <td>20</td>\n",
       "      <td>5</td>\n",
       "    </tr>\n",
       "    <tr>\n",
       "      <th>2</th>\n",
       "      <td>Washington D.C</td>\n",
       "      <td>2</td>\n",
       "      <td>20</td>\n",
       "      <td>20</td>\n",
       "      <td>20</td>\n",
       "      <td>20</td>\n",
       "      <td>16</td>\n",
       "    </tr>\n",
       "    <tr>\n",
       "      <th>3</th>\n",
       "      <td>Brussels</td>\n",
       "      <td>2</td>\n",
       "      <td>20</td>\n",
       "      <td>8</td>\n",
       "      <td>15</td>\n",
       "      <td>20</td>\n",
       "      <td>6</td>\n",
       "    </tr>\n",
       "    <tr>\n",
       "      <th>4</th>\n",
       "      <td>Montevideo</td>\n",
       "      <td>6</td>\n",
       "      <td>20</td>\n",
       "      <td>17</td>\n",
       "      <td>20</td>\n",
       "      <td>20</td>\n",
       "      <td>0</td>\n",
       "    </tr>\n",
       "    <tr>\n",
       "      <th>5</th>\n",
       "      <td>Bocharest</td>\n",
       "      <td>3</td>\n",
       "      <td>20</td>\n",
       "      <td>18</td>\n",
       "      <td>19</td>\n",
       "      <td>20</td>\n",
       "      <td>2</td>\n",
       "    </tr>\n",
       "    <tr>\n",
       "      <th>6</th>\n",
       "      <td>Islamabad</td>\n",
       "      <td>0</td>\n",
       "      <td>7</td>\n",
       "      <td>2</td>\n",
       "      <td>4</td>\n",
       "      <td>4</td>\n",
       "      <td>0</td>\n",
       "    </tr>\n",
       "    <tr>\n",
       "      <th>7</th>\n",
       "      <td>Accra</td>\n",
       "      <td>2</td>\n",
       "      <td>7</td>\n",
       "      <td>4</td>\n",
       "      <td>7</td>\n",
       "      <td>11</td>\n",
       "      <td>1</td>\n",
       "    </tr>\n",
       "    <tr>\n",
       "      <th>8</th>\n",
       "      <td>Bhagdad</td>\n",
       "      <td>1</td>\n",
       "      <td>20</td>\n",
       "      <td>8</td>\n",
       "      <td>3</td>\n",
       "      <td>20</td>\n",
       "      <td>0</td>\n",
       "    </tr>\n",
       "    <tr>\n",
       "      <th>9</th>\n",
       "      <td>Kampala</td>\n",
       "      <td>3</td>\n",
       "      <td>6</td>\n",
       "      <td>4</td>\n",
       "      <td>3</td>\n",
       "      <td>8</td>\n",
       "      <td>5</td>\n",
       "    </tr>\n",
       "    <tr>\n",
       "      <th>10</th>\n",
       "      <td>Gaborone</td>\n",
       "      <td>1</td>\n",
       "      <td>5</td>\n",
       "      <td>1</td>\n",
       "      <td>1</td>\n",
       "      <td>4</td>\n",
       "      <td>2</td>\n",
       "    </tr>\n",
       "  </tbody>\n",
       "</table>\n",
       "</div>"
      ],
      "text/plain": [
       "            Cities  Hospitals  Doctors  Dentists  Gyms  Pharmacies  \\\n",
       "0         Helsinki          2       20        20    20          18   \n",
       "1        Stockholm          1       20        20    20          20   \n",
       "2   Washington D.C          2       20        20    20          20   \n",
       "3         Brussels          2       20         8    15          20   \n",
       "4       Montevideo          6       20        17    20          20   \n",
       "5        Bocharest          3       20        18    19          20   \n",
       "6        Islamabad          0        7         2     4           4   \n",
       "7            Accra          2        7         4     7          11   \n",
       "8          Bhagdad          1       20         8     3          20   \n",
       "9          Kampala          3        6         4     3           8   \n",
       "10        Gaborone          1        5         1     1           4   \n",
       "\n",
       "    Physiotherapists  \n",
       "0                 10  \n",
       "1                  5  \n",
       "2                 16  \n",
       "3                  6  \n",
       "4                  0  \n",
       "5                  2  \n",
       "6                  0  \n",
       "7                  1  \n",
       "8                  0  \n",
       "9                  5  \n",
       "10                 2  "
      ]
     },
     "execution_count": 12,
     "metadata": {},
     "output_type": "execute_result"
    }
   ],
   "source": [
    "\n",
    "health_dict = {\"Cities\":cities,\"Hospitals\":count_hospitals,\"Doctors\":count_doctors,\"Dentists\":count_dentists,\n",
    "              \"Gyms\":count_gyms,\"Pharmacies\":count_pharmacies,\"Physiotherapists\":count_physio}\n",
    "\n",
    "health_data_df = pd.DataFrame(health_dict)\n",
    "health_data_df"
   ]
  },
  {
   "cell_type": "code",
   "execution_count": 13,
   "metadata": {},
   "outputs": [],
   "source": [
    "#sum the totals of each row\n",
    "sum_rows= health_data_df.sum(axis=1)\n"
   ]
  },
  {
   "cell_type": "code",
   "execution_count": 14,
   "metadata": {},
   "outputs": [
    {
     "data": {
      "text/html": [
       "<div>\n",
       "<style scoped>\n",
       "    .dataframe tbody tr th:only-of-type {\n",
       "        vertical-align: middle;\n",
       "    }\n",
       "\n",
       "    .dataframe tbody tr th {\n",
       "        vertical-align: top;\n",
       "    }\n",
       "\n",
       "    .dataframe thead th {\n",
       "        text-align: right;\n",
       "    }\n",
       "</style>\n",
       "<table border=\"1\" class=\"dataframe\">\n",
       "  <thead>\n",
       "    <tr style=\"text-align: right;\">\n",
       "      <th></th>\n",
       "      <th>Cities</th>\n",
       "      <th>Hospitals</th>\n",
       "      <th>Doctors</th>\n",
       "      <th>Dentists</th>\n",
       "      <th>Gyms</th>\n",
       "      <th>Pharmacies</th>\n",
       "      <th>Physiotherapists</th>\n",
       "      <th>Total</th>\n",
       "    </tr>\n",
       "  </thead>\n",
       "  <tbody>\n",
       "    <tr>\n",
       "      <th>0</th>\n",
       "      <td>Helsinki</td>\n",
       "      <td>2</td>\n",
       "      <td>20</td>\n",
       "      <td>20</td>\n",
       "      <td>20</td>\n",
       "      <td>18</td>\n",
       "      <td>10</td>\n",
       "      <td>90</td>\n",
       "    </tr>\n",
       "    <tr>\n",
       "      <th>1</th>\n",
       "      <td>Stockholm</td>\n",
       "      <td>1</td>\n",
       "      <td>20</td>\n",
       "      <td>20</td>\n",
       "      <td>20</td>\n",
       "      <td>20</td>\n",
       "      <td>5</td>\n",
       "      <td>86</td>\n",
       "    </tr>\n",
       "    <tr>\n",
       "      <th>2</th>\n",
       "      <td>Washington D.C</td>\n",
       "      <td>2</td>\n",
       "      <td>20</td>\n",
       "      <td>20</td>\n",
       "      <td>20</td>\n",
       "      <td>20</td>\n",
       "      <td>16</td>\n",
       "      <td>98</td>\n",
       "    </tr>\n",
       "    <tr>\n",
       "      <th>3</th>\n",
       "      <td>Brussels</td>\n",
       "      <td>2</td>\n",
       "      <td>20</td>\n",
       "      <td>8</td>\n",
       "      <td>15</td>\n",
       "      <td>20</td>\n",
       "      <td>6</td>\n",
       "      <td>71</td>\n",
       "    </tr>\n",
       "    <tr>\n",
       "      <th>4</th>\n",
       "      <td>Montevideo</td>\n",
       "      <td>6</td>\n",
       "      <td>20</td>\n",
       "      <td>17</td>\n",
       "      <td>20</td>\n",
       "      <td>20</td>\n",
       "      <td>0</td>\n",
       "      <td>83</td>\n",
       "    </tr>\n",
       "    <tr>\n",
       "      <th>5</th>\n",
       "      <td>Bocharest</td>\n",
       "      <td>3</td>\n",
       "      <td>20</td>\n",
       "      <td>18</td>\n",
       "      <td>19</td>\n",
       "      <td>20</td>\n",
       "      <td>2</td>\n",
       "      <td>82</td>\n",
       "    </tr>\n",
       "    <tr>\n",
       "      <th>6</th>\n",
       "      <td>Islamabad</td>\n",
       "      <td>0</td>\n",
       "      <td>7</td>\n",
       "      <td>2</td>\n",
       "      <td>4</td>\n",
       "      <td>4</td>\n",
       "      <td>0</td>\n",
       "      <td>17</td>\n",
       "    </tr>\n",
       "    <tr>\n",
       "      <th>7</th>\n",
       "      <td>Accra</td>\n",
       "      <td>2</td>\n",
       "      <td>7</td>\n",
       "      <td>4</td>\n",
       "      <td>7</td>\n",
       "      <td>11</td>\n",
       "      <td>1</td>\n",
       "      <td>32</td>\n",
       "    </tr>\n",
       "    <tr>\n",
       "      <th>8</th>\n",
       "      <td>Bhagdad</td>\n",
       "      <td>1</td>\n",
       "      <td>20</td>\n",
       "      <td>8</td>\n",
       "      <td>3</td>\n",
       "      <td>20</td>\n",
       "      <td>0</td>\n",
       "      <td>52</td>\n",
       "    </tr>\n",
       "    <tr>\n",
       "      <th>9</th>\n",
       "      <td>Kampala</td>\n",
       "      <td>3</td>\n",
       "      <td>6</td>\n",
       "      <td>4</td>\n",
       "      <td>3</td>\n",
       "      <td>8</td>\n",
       "      <td>5</td>\n",
       "      <td>29</td>\n",
       "    </tr>\n",
       "    <tr>\n",
       "      <th>10</th>\n",
       "      <td>Gaborone</td>\n",
       "      <td>1</td>\n",
       "      <td>5</td>\n",
       "      <td>1</td>\n",
       "      <td>1</td>\n",
       "      <td>4</td>\n",
       "      <td>2</td>\n",
       "      <td>14</td>\n",
       "    </tr>\n",
       "  </tbody>\n",
       "</table>\n",
       "</div>"
      ],
      "text/plain": [
       "            Cities  Hospitals  Doctors  Dentists  Gyms  Pharmacies  \\\n",
       "0         Helsinki          2       20        20    20          18   \n",
       "1        Stockholm          1       20        20    20          20   \n",
       "2   Washington D.C          2       20        20    20          20   \n",
       "3         Brussels          2       20         8    15          20   \n",
       "4       Montevideo          6       20        17    20          20   \n",
       "5        Bocharest          3       20        18    19          20   \n",
       "6        Islamabad          0        7         2     4           4   \n",
       "7            Accra          2        7         4     7          11   \n",
       "8          Bhagdad          1       20         8     3          20   \n",
       "9          Kampala          3        6         4     3           8   \n",
       "10        Gaborone          1        5         1     1           4   \n",
       "\n",
       "    Physiotherapists  Total  \n",
       "0                 10     90  \n",
       "1                  5     86  \n",
       "2                 16     98  \n",
       "3                  6     71  \n",
       "4                  0     83  \n",
       "5                  2     82  \n",
       "6                  0     17  \n",
       "7                  1     32  \n",
       "8                  0     52  \n",
       "9                  5     29  \n",
       "10                 2     14  "
      ]
     },
     "execution_count": 14,
     "metadata": {},
     "output_type": "execute_result"
    }
   ],
   "source": [
    "#Add to dataframe\n",
    "health_data_df[\"Total\"]=sum_rows\n",
    "health_data_df"
   ]
  },
  {
   "cell_type": "code",
   "execution_count": 19,
   "metadata": {},
   "outputs": [
    {
     "data": {
      "text/plain": [
       "Text(0, 0.5, 'Score')"
      ]
     },
     "execution_count": 19,
     "metadata": {},
     "output_type": "execute_result"
    },
    {
     "data": {
      "image/png": "[encoded data removed]",
      "text/plain": [
       "<Figure size 432x288 with 1 Axes>"
      ]
     },
     "metadata": {
      "needs_background": "light"
     },
     "output_type": "display_data"
    }
   ],
   "source": [
    "health_score = health_data_df[\"Total\"]\n",
    "x_cities = health_data_df[\"Cities\"]\n",
    "life_expectancy = world_happiness_df[\"Healthy life expectancy\"]\n",
    "plt.bar(x_cities,health_score,color=\"b\",alpha=0.5,align=\"center\")\n",
    "plt.plot(x_cities,life_expectancy,color=\"r\",label=\"Life Expectancy\")\n",
    "plt.legend(loc=\"upper right\")\n",
    "plt.xticks(rotation=90)\n",
    "plt.title(\"Health Scores\")\n",
    "plt.xlabel(\"Cities\")\n",
    "plt.ylabel(\"Score\")"
   ]
  }
 ],
 "metadata": {
  "kernelspec": {
   "display_name": "Python [conda env:PythonData] *",
   "language": "python",
   "name": "conda-env-PythonData-py"
  },
  "language_info": {
   "codemirror_mode": {
    "name": "ipython",
    "version": 3
   },
   "file_extension": ".py",
   "mimetype": "text/x-python",
   "name": "python",
   "nbconvert_exporter": "python",
   "pygments_lexer": "ipython3",
   "version": "3.6.12"
  }
 },
 "nbformat": 4,
 "nbformat_minor": 4
}
