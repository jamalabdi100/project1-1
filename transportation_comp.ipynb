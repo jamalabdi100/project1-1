{
 "cells": [
  {
   "cell_type": "code",
   "execution_count": 1,
   "metadata": {},
   "outputs": [],
   "source": [
    "# Dependencies\n",
    "import pandas as pd\n",
    "import requests\n",
    "import json\n",
    "import os\n",
    "import csv\n",
    "import prettyprint as pp\n",
    "import matplotlib.pyplot as plt\n",
    "\n",
    "# Google developer API key\n",
    "from config import gkey"
   ]
  },
  {
   "cell_type": "code",
   "execution_count": 2,
   "metadata": {},
   "outputs": [],
   "source": [
    "world_happiness = \"Selected_cities_2020.csv\"\n",
    "location_types = \"Location_Types.csv\"\n",
    "world_happiness_df = pd.read_csv(world_happiness, encoding=\"UTF-8\")\n",
    "location_types_df = pd.read_csv(location_types, encoding=\"UTF-8\")\n",
    " # base url\n",
    "places_url = \"https://maps.googleapis.com/maps/api/place/nearbysearch/json\""
   ]
  },
  {
   "cell_type": "code",
   "execution_count": 3,
   "metadata": {},
   "outputs": [
    {
     "data": {
      "text/html": [
       "<div>\n",
       "<style scoped>\n",
       "    .dataframe tbody tr th:only-of-type {\n",
       "        vertical-align: middle;\n",
       "    }\n",
       "\n",
       "    .dataframe tbody tr th {\n",
       "        vertical-align: top;\n",
       "    }\n",
       "\n",
       "    .dataframe thead th {\n",
       "        text-align: right;\n",
       "    }\n",
       "</style>\n",
       "<table border=\"1\" class=\"dataframe\">\n",
       "  <thead>\n",
       "    <tr style=\"text-align: right;\">\n",
       "      <th></th>\n",
       "      <th>location_types</th>\n",
       "      <th>sub_type</th>\n",
       "    </tr>\n",
       "  </thead>\n",
       "  <tbody>\n",
       "    <tr>\n",
       "      <th>0</th>\n",
       "      <td>library</td>\n",
       "      <td>Education</td>\n",
       "    </tr>\n",
       "    <tr>\n",
       "      <th>1</th>\n",
       "      <td>museum</td>\n",
       "      <td>Education</td>\n",
       "    </tr>\n",
       "    <tr>\n",
       "      <th>2</th>\n",
       "      <td>primary_school</td>\n",
       "      <td>Education</td>\n",
       "    </tr>\n",
       "    <tr>\n",
       "      <th>3</th>\n",
       "      <td>school</td>\n",
       "      <td>Education</td>\n",
       "    </tr>\n",
       "    <tr>\n",
       "      <th>4</th>\n",
       "      <td>secondary_school</td>\n",
       "      <td>Education</td>\n",
       "    </tr>\n",
       "  </tbody>\n",
       "</table>\n",
       "</div>"
      ],
      "text/plain": [
       "     location_types   sub_type\n",
       "0           library  Education\n",
       "1            museum  Education\n",
       "2    primary_school  Education\n",
       "3            school  Education\n",
       "4  secondary_school  Education"
      ]
     },
     "execution_count": 3,
     "metadata": {},
     "output_type": "execute_result"
    }
   ],
   "source": [
    "location_types = \"location_types.csv\"\n",
    "location_types_df = pd.read_csv(location_types, encoding=\"UTF-8\")\n",
    "location_types_df.head()"
   ]
  },
  {
   "cell_type": "code",
   "execution_count": 4,
   "metadata": {},
   "outputs": [
    {
     "data": {
      "text/plain": [
       "['airport',\n",
       " 'bus_station',\n",
       " 'light_rail_station',\n",
       " 'subway_station',\n",
       " 'train_station',\n",
       " 'transit_station']"
      ]
     },
     "execution_count": 4,
     "metadata": {},
     "output_type": "execute_result"
    }
   ],
   "source": [
    "transportation_location_types = location_types_df.loc[location_types_df[\"sub_type\"]\n",
    "                                               ==\"Transportation\",:]\n",
    "transportation_types_list = []\n",
    "transportation_location_types.reset_index(inplace=True)\n",
    "for i in range(len(transportation_location_types)):\n",
    "    transportation_types_list.append(transportation_location_types.loc[i,\"location_types\"])\n",
    "\n",
    "transportation_types_list"
   ]
  },
  {
   "cell_type": "code",
   "execution_count": 6,
   "metadata": {},
   "outputs": [
    {
     "data": {
      "text/plain": [
       "['60.16985569999999,24.9383791',\n",
       " '59.32932349999999,18.0685808',\n",
       " '38.9071923,-77.0368707',\n",
       " '50.8503396,4.3517103',\n",
       " '-34.9011127,-56.16453139999999',\n",
       " '44.4267674,26.1025384',\n",
       " '33.6844202,73.04788479999999',\n",
       " '5.6037168,-0.1869644',\n",
       " '33.315241,44.3660671',\n",
       " '0.3475964,32.5825197',\n",
       " '-24.6282079,25.9231471']"
      ]
     },
     "execution_count": 6,
     "metadata": {},
     "output_type": "execute_result"
    }
   ],
   "source": [
    "base_url = \"https://maps.googleapis.com/maps/api/geocode/json\"\n",
    "coord=[]\n",
    "cities=[\"Helsinki\",\"Stockholm\",\"Washington D.C.\",\"Brussels\",\"Montevideo\",\"Bucharest\",\"Islamabad\",\"Accra\",\"Bhagdad\",\"Kampala\",\"Gaborone\"]\n",
    "for city in cities:\n",
    "    params = {\"address\": city, \"key\":gkey}\n",
    "    response = requests.get(base_url, params=params)\n",
    "    places_data = response.json()   \n",
    "    lat=places_data[\"results\"][0][\"geometry\"][\"location\"][\"lat\"]\n",
    "    long=places_data[\"results\"][0][\"geometry\"][\"location\"][\"lng\"]\n",
    "    coord.append(f\"{lat},{long}\")\n",
    "coord"
   ]
  },
  {
   "cell_type": "code",
   "execution_count": 7,
   "metadata": {},
   "outputs": [
    {
     "data": {
      "text/plain": [
       "[5, 8, 1, 4, 5, 2, 6, 5, 3, 2, 2]"
      ]
     },
     "execution_count": 7,
     "metadata": {},
     "output_type": "execute_result"
    }
   ],
   "source": [
    "# Use for Loop to calculate Airports\n",
    "\n",
    "target_type =\"airport\"\n",
    "base_url = \"https://maps.googleapis.com/maps/api/place/nearbysearch/json\"\n",
    "count_airports=[]\n",
    "\n",
    "for lat in coord:\n",
    "    params = {\"location\":lat,\"key\": gkey,\"keyword\":target_type, \"radius\":750}\n",
    "    response = requests.get(base_url, params=params)\n",
    "    places_data = response.json()\n",
    "    count_airports.append(len(places_data[\"results\"]))\n",
    "    \n",
    "count_airports"
   ]
  },
  {
   "cell_type": "code",
   "execution_count": 8,
   "metadata": {},
   "outputs": [
    {
     "data": {
      "text/plain": [
       "[10, 10, 10, 10, 10, 10, 7, 0, 0, 2, 0]"
      ]
     },
     "execution_count": 8,
     "metadata": {},
     "output_type": "execute_result"
    }
   ],
   "source": [
    "# Use for Loop to calculate Bus Stations\n",
    "\n",
    "target_type =\"bus station\"\n",
    "base_url = \"https://maps.googleapis.com/maps/api/place/nearbysearch/json\"\n",
    "count_bus_stations=[]\n",
    "\n",
    "for lat in coord:\n",
    "    params = {\"location\":lat,\"key\": gkey,\"keyword\":target_type, \"radius\":750}\n",
    "    response = requests.get(base_url, params=params)\n",
    "    places_data = response.json()\n",
    "    count_bus_stations.append(len(places_data[\"results\"]))\n",
    "    \n",
    "count_bus_stations"
   ]
  },
  {
   "cell_type": "code",
   "execution_count": 9,
   "metadata": {},
   "outputs": [
    {
     "data": {
      "text/plain": [
       "[10, 10, 10, 10, 10, 10, 0, 5, 1, 0, 2]"
      ]
     },
     "execution_count": 9,
     "metadata": {},
     "output_type": "execute_result"
    }
   ],
   "source": [
    "# Use for Loop to calculate Light Rail Stations\n",
    "\n",
    "target_type =\"light rail station\"\n",
    "base_url = \"https://maps.googleapis.com/maps/api/place/nearbysearch/json\"\n",
    "count_light_rail_stations=[]\n",
    "\n",
    "for lat in coord:\n",
    "    params = {\"location\":lat,\"key\": gkey,\"keyword\":target_type, \"radius\":750}\n",
    "    response = requests.get(base_url, params=params)\n",
    "    places_data = response.json()\n",
    "    count_light_rail_stations.append(len(places_data[\"results\"]))\n",
    "    \n",
    "count_light_rail_stations"
   ]
  },
  {
   "cell_type": "code",
   "execution_count": 10,
   "metadata": {},
   "outputs": [
    {
     "data": {
      "text/plain": [
       "[7, 7, 11, 8, 0, 3, 3, 0, 0, 0, 0]"
      ]
     },
     "execution_count": 10,
     "metadata": {},
     "output_type": "execute_result"
    }
   ],
   "source": [
    "# Use for Loop to calculate Subway Stations\n",
    "\n",
    "target_type =\"subway station\"\n",
    "base_url = \"https://maps.googleapis.com/maps/api/place/nearbysearch/json\"\n",
    "count_subway_stations=[]\n",
    "\n",
    "for lat in coord:\n",
    "    params = {\"location\":lat,\"key\": gkey,\"keyword\":target_type, \"radius\":750}\n",
    "    response = requests.get(base_url, params=params)\n",
    "    places_data = response.json()\n",
    "    count_subway_stations.append(len(places_data[\"results\"]))\n",
    "    \n",
    "count_subway_stations"
   ]
  },
  {
   "cell_type": "code",
   "execution_count": 11,
   "metadata": {},
   "outputs": [
    {
     "data": {
      "text/plain": [
       "[10, 10, 5, 10, 1, 10, 0, 0, 0, 0, 0]"
      ]
     },
     "execution_count": 11,
     "metadata": {},
     "output_type": "execute_result"
    }
   ],
   "source": [
    "# Use for Loop to calculate Train Stations\n",
    "\n",
    "target_type =\"train station\"\n",
    "base_url = \"https://maps.googleapis.com/maps/api/place/nearbysearch/json\"\n",
    "count_train_stations=[]\n",
    "\n",
    "for lat in coord:\n",
    "    params = {\"location\":lat,\"key\": gkey,\"keyword\":target_type, \"radius\":750}\n",
    "    response = requests.get(base_url, params=params)\n",
    "    places_data = response.json()\n",
    "    count_train_stations.append(len(places_data[\"results\"]))\n",
    "    \n",
    "count_train_stations"
   ]
  },
  {
   "cell_type": "code",
   "execution_count": 12,
   "metadata": {},
   "outputs": [
    {
     "data": {
      "text/plain": [
       "[10, 10, 10, 10, 10, 10, 0, 0, 0, 2, 2]"
      ]
     },
     "execution_count": 12,
     "metadata": {},
     "output_type": "execute_result"
    }
   ],
   "source": [
    "# Use for Loop to calculate Transit Stations\n",
    "\n",
    "target_type =\"transit station\"\n",
    "base_url = \"https://maps.googleapis.com/maps/api/place/nearbysearch/json\"\n",
    "count_transit_stations=[]\n",
    "\n",
    "for lat in coord:\n",
    "    params = {\"location\":lat,\"key\": gkey,\"keyword\":target_type, \"radius\":750}\n",
    "    response = requests.get(base_url, params=params)\n",
    "    places_data = response.json()\n",
    "    count_transit_stations.append(len(places_data[\"results\"]))\n",
    "    \n",
    "count_transit_stations"
   ]
  },
  {
   "cell_type": "code",
   "execution_count": 13,
   "metadata": {},
   "outputs": [
    {
     "data": {
      "text/html": [
       "<div>\n",
       "<style scoped>\n",
       "    .dataframe tbody tr th:only-of-type {\n",
       "        vertical-align: middle;\n",
       "    }\n",
       "\n",
       "    .dataframe tbody tr th {\n",
       "        vertical-align: top;\n",
       "    }\n",
       "\n",
       "    .dataframe thead th {\n",
       "        text-align: right;\n",
       "    }\n",
       "</style>\n",
       "<table border=\"1\" class=\"dataframe\">\n",
       "  <thead>\n",
       "    <tr style=\"text-align: right;\">\n",
       "      <th></th>\n",
       "      <th>Cities</th>\n",
       "      <th>Airports</th>\n",
       "      <th>Bus Stations</th>\n",
       "      <th>Light Rail Stations</th>\n",
       "      <th>Subway Stations</th>\n",
       "      <th>Train Stations</th>\n",
       "      <th>Transit Stations</th>\n",
       "    </tr>\n",
       "  </thead>\n",
       "  <tbody>\n",
       "    <tr>\n",
       "      <th>0</th>\n",
       "      <td>Helsinki</td>\n",
       "      <td>5</td>\n",
       "      <td>10</td>\n",
       "      <td>10</td>\n",
       "      <td>7</td>\n",
       "      <td>10</td>\n",
       "      <td>10</td>\n",
       "    </tr>\n",
       "    <tr>\n",
       "      <th>1</th>\n",
       "      <td>Stockholm</td>\n",
       "      <td>8</td>\n",
       "      <td>10</td>\n",
       "      <td>10</td>\n",
       "      <td>7</td>\n",
       "      <td>10</td>\n",
       "      <td>10</td>\n",
       "    </tr>\n",
       "    <tr>\n",
       "      <th>2</th>\n",
       "      <td>Washington D.C.</td>\n",
       "      <td>1</td>\n",
       "      <td>10</td>\n",
       "      <td>10</td>\n",
       "      <td>11</td>\n",
       "      <td>5</td>\n",
       "      <td>10</td>\n",
       "    </tr>\n",
       "    <tr>\n",
       "      <th>3</th>\n",
       "      <td>Brussels</td>\n",
       "      <td>4</td>\n",
       "      <td>10</td>\n",
       "      <td>10</td>\n",
       "      <td>8</td>\n",
       "      <td>10</td>\n",
       "      <td>10</td>\n",
       "    </tr>\n",
       "    <tr>\n",
       "      <th>4</th>\n",
       "      <td>Montevideo</td>\n",
       "      <td>5</td>\n",
       "      <td>10</td>\n",
       "      <td>10</td>\n",
       "      <td>0</td>\n",
       "      <td>1</td>\n",
       "      <td>10</td>\n",
       "    </tr>\n",
       "    <tr>\n",
       "      <th>5</th>\n",
       "      <td>Bucharest</td>\n",
       "      <td>2</td>\n",
       "      <td>10</td>\n",
       "      <td>10</td>\n",
       "      <td>3</td>\n",
       "      <td>10</td>\n",
       "      <td>10</td>\n",
       "    </tr>\n",
       "    <tr>\n",
       "      <th>6</th>\n",
       "      <td>Islamabad</td>\n",
       "      <td>6</td>\n",
       "      <td>7</td>\n",
       "      <td>0</td>\n",
       "      <td>3</td>\n",
       "      <td>0</td>\n",
       "      <td>0</td>\n",
       "    </tr>\n",
       "    <tr>\n",
       "      <th>7</th>\n",
       "      <td>Accra</td>\n",
       "      <td>5</td>\n",
       "      <td>0</td>\n",
       "      <td>5</td>\n",
       "      <td>0</td>\n",
       "      <td>0</td>\n",
       "      <td>0</td>\n",
       "    </tr>\n",
       "    <tr>\n",
       "      <th>8</th>\n",
       "      <td>Bhagdad</td>\n",
       "      <td>3</td>\n",
       "      <td>0</td>\n",
       "      <td>1</td>\n",
       "      <td>0</td>\n",
       "      <td>0</td>\n",
       "      <td>0</td>\n",
       "    </tr>\n",
       "    <tr>\n",
       "      <th>9</th>\n",
       "      <td>Kampala</td>\n",
       "      <td>2</td>\n",
       "      <td>2</td>\n",
       "      <td>0</td>\n",
       "      <td>0</td>\n",
       "      <td>0</td>\n",
       "      <td>2</td>\n",
       "    </tr>\n",
       "    <tr>\n",
       "      <th>10</th>\n",
       "      <td>Gaborone</td>\n",
       "      <td>2</td>\n",
       "      <td>0</td>\n",
       "      <td>2</td>\n",
       "      <td>0</td>\n",
       "      <td>0</td>\n",
       "      <td>2</td>\n",
       "    </tr>\n",
       "  </tbody>\n",
       "</table>\n",
       "</div>"
      ],
      "text/plain": [
       "             Cities  Airports  Bus Stations  Light Rail Stations  \\\n",
       "0          Helsinki         5            10                   10   \n",
       "1         Stockholm         8            10                   10   \n",
       "2   Washington D.C.         1            10                   10   \n",
       "3          Brussels         4            10                   10   \n",
       "4        Montevideo         5            10                   10   \n",
       "5         Bucharest         2            10                   10   \n",
       "6         Islamabad         6             7                    0   \n",
       "7             Accra         5             0                    5   \n",
       "8           Bhagdad         3             0                    1   \n",
       "9           Kampala         2             2                    0   \n",
       "10         Gaborone         2             0                    2   \n",
       "\n",
       "    Subway Stations  Train Stations  Transit Stations  \n",
       "0                 7              10                10  \n",
       "1                 7              10                10  \n",
       "2                11               5                10  \n",
       "3                 8              10                10  \n",
       "4                 0               1                10  \n",
       "5                 3              10                10  \n",
       "6                 3               0                 0  \n",
       "7                 0               0                 0  \n",
       "8                 0               0                 0  \n",
       "9                 0               0                 2  \n",
       "10                0               0                 2  "
      ]
     },
     "execution_count": 13,
     "metadata": {},
     "output_type": "execute_result"
    }
   ],
   "source": [
    "transportation_dict = {\"Cities\":cities,\"Airports\":count_airports,\"Bus Stations\":count_bus_stations,\"Light Rail Stations\":count_light_rail_stations,\n",
    "              \"Subway Stations\":count_subway_stations,\"Train Stations\":count_train_stations, \"Transit Stations\":count_transit_stations}\n",
    "\n",
    "transportation_data_df = pd.DataFrame(transportation_dict)\n",
    "transportation_data_df"
   ]
  },
  {
   "cell_type": "code",
   "execution_count": 15,
   "metadata": {},
   "outputs": [],
   "source": [
    "#sum the totals of each row\n",
    "sum_rows= transportation_data_df.sum(axis=1)"
   ]
  },
  {
   "cell_type": "code",
   "execution_count": 16,
   "metadata": {},
   "outputs": [
    {
     "data": {
      "text/html": [
       "<div>\n",
       "<style scoped>\n",
       "    .dataframe tbody tr th:only-of-type {\n",
       "        vertical-align: middle;\n",
       "    }\n",
       "\n",
       "    .dataframe tbody tr th {\n",
       "        vertical-align: top;\n",
       "    }\n",
       "\n",
       "    .dataframe thead th {\n",
       "        text-align: right;\n",
       "    }\n",
       "</style>\n",
       "<table border=\"1\" class=\"dataframe\">\n",
       "  <thead>\n",
       "    <tr style=\"text-align: right;\">\n",
       "      <th></th>\n",
       "      <th>Cities</th>\n",
       "      <th>Airports</th>\n",
       "      <th>Bus Stations</th>\n",
       "      <th>Light Rail Stations</th>\n",
       "      <th>Subway Stations</th>\n",
       "      <th>Train Stations</th>\n",
       "      <th>Transit Stations</th>\n",
       "      <th>Total</th>\n",
       "    </tr>\n",
       "  </thead>\n",
       "  <tbody>\n",
       "    <tr>\n",
       "      <th>0</th>\n",
       "      <td>Helsinki</td>\n",
       "      <td>5</td>\n",
       "      <td>10</td>\n",
       "      <td>10</td>\n",
       "      <td>7</td>\n",
       "      <td>10</td>\n",
       "      <td>10</td>\n",
       "      <td>52</td>\n",
       "    </tr>\n",
       "    <tr>\n",
       "      <th>1</th>\n",
       "      <td>Stockholm</td>\n",
       "      <td>8</td>\n",
       "      <td>10</td>\n",
       "      <td>10</td>\n",
       "      <td>7</td>\n",
       "      <td>10</td>\n",
       "      <td>10</td>\n",
       "      <td>55</td>\n",
       "    </tr>\n",
       "    <tr>\n",
       "      <th>2</th>\n",
       "      <td>Washington D.C.</td>\n",
       "      <td>1</td>\n",
       "      <td>10</td>\n",
       "      <td>10</td>\n",
       "      <td>11</td>\n",
       "      <td>5</td>\n",
       "      <td>10</td>\n",
       "      <td>47</td>\n",
       "    </tr>\n",
       "    <tr>\n",
       "      <th>3</th>\n",
       "      <td>Brussels</td>\n",
       "      <td>4</td>\n",
       "      <td>10</td>\n",
       "      <td>10</td>\n",
       "      <td>8</td>\n",
       "      <td>10</td>\n",
       "      <td>10</td>\n",
       "      <td>52</td>\n",
       "    </tr>\n",
       "    <tr>\n",
       "      <th>4</th>\n",
       "      <td>Montevideo</td>\n",
       "      <td>5</td>\n",
       "      <td>10</td>\n",
       "      <td>10</td>\n",
       "      <td>0</td>\n",
       "      <td>1</td>\n",
       "      <td>10</td>\n",
       "      <td>36</td>\n",
       "    </tr>\n",
       "    <tr>\n",
       "      <th>5</th>\n",
       "      <td>Bucharest</td>\n",
       "      <td>2</td>\n",
       "      <td>10</td>\n",
       "      <td>10</td>\n",
       "      <td>3</td>\n",
       "      <td>10</td>\n",
       "      <td>10</td>\n",
       "      <td>45</td>\n",
       "    </tr>\n",
       "    <tr>\n",
       "      <th>6</th>\n",
       "      <td>Islamabad</td>\n",
       "      <td>6</td>\n",
       "      <td>7</td>\n",
       "      <td>0</td>\n",
       "      <td>3</td>\n",
       "      <td>0</td>\n",
       "      <td>0</td>\n",
       "      <td>16</td>\n",
       "    </tr>\n",
       "    <tr>\n",
       "      <th>7</th>\n",
       "      <td>Accra</td>\n",
       "      <td>5</td>\n",
       "      <td>0</td>\n",
       "      <td>5</td>\n",
       "      <td>0</td>\n",
       "      <td>0</td>\n",
       "      <td>0</td>\n",
       "      <td>10</td>\n",
       "    </tr>\n",
       "    <tr>\n",
       "      <th>8</th>\n",
       "      <td>Bhagdad</td>\n",
       "      <td>3</td>\n",
       "      <td>0</td>\n",
       "      <td>1</td>\n",
       "      <td>0</td>\n",
       "      <td>0</td>\n",
       "      <td>0</td>\n",
       "      <td>4</td>\n",
       "    </tr>\n",
       "    <tr>\n",
       "      <th>9</th>\n",
       "      <td>Kampala</td>\n",
       "      <td>2</td>\n",
       "      <td>2</td>\n",
       "      <td>0</td>\n",
       "      <td>0</td>\n",
       "      <td>0</td>\n",
       "      <td>2</td>\n",
       "      <td>6</td>\n",
       "    </tr>\n",
       "    <tr>\n",
       "      <th>10</th>\n",
       "      <td>Gaborone</td>\n",
       "      <td>2</td>\n",
       "      <td>0</td>\n",
       "      <td>2</td>\n",
       "      <td>0</td>\n",
       "      <td>0</td>\n",
       "      <td>2</td>\n",
       "      <td>6</td>\n",
       "    </tr>\n",
       "  </tbody>\n",
       "</table>\n",
       "</div>"
      ],
      "text/plain": [
       "             Cities  Airports  Bus Stations  Light Rail Stations  \\\n",
       "0          Helsinki         5            10                   10   \n",
       "1         Stockholm         8            10                   10   \n",
       "2   Washington D.C.         1            10                   10   \n",
       "3          Brussels         4            10                   10   \n",
       "4        Montevideo         5            10                   10   \n",
       "5         Bucharest         2            10                   10   \n",
       "6         Islamabad         6             7                    0   \n",
       "7             Accra         5             0                    5   \n",
       "8           Bhagdad         3             0                    1   \n",
       "9           Kampala         2             2                    0   \n",
       "10         Gaborone         2             0                    2   \n",
       "\n",
       "    Subway Stations  Train Stations  Transit Stations  Total  \n",
       "0                 7              10                10     52  \n",
       "1                 7              10                10     55  \n",
       "2                11               5                10     47  \n",
       "3                 8              10                10     52  \n",
       "4                 0               1                10     36  \n",
       "5                 3              10                10     45  \n",
       "6                 3               0                 0     16  \n",
       "7                 0               0                 0     10  \n",
       "8                 0               0                 0      4  \n",
       "9                 0               0                 2      6  \n",
       "10                0               0                 2      6  "
      ]
     },
     "execution_count": 16,
     "metadata": {},
     "output_type": "execute_result"
    }
   ],
   "source": [
    "#Add to dataframe\n",
    "transportation_data_df[\"Total\"]=sum_rows\n",
    "transportation_data_df"
   ]
  },
  {
   "cell_type": "code",
   "execution_count": 22,
   "metadata": {},
   "outputs": [
    {
     "data": {
      "text/plain": [
       "Text(0, 0.5, 'Score')"
      ]
     },
     "execution_count": 22,
     "metadata": {},
     "output_type": "execute_result"
    },
    {
     "data": {
      "image/png": "[encoded data removed]",
      "text/plain": [
       "<Figure size 432x288 with 1 Axes>"
      ]
     },
     "metadata": {
      "needs_background": "light"
     },
     "output_type": "display_data"
    }
   ],
   "source": [
    "transportation_score = transportation_data_df[\"Total\"]\n",
    "x_cities = transportation_data_df[\"Cities\"]\n",
    "# life_choices = world_happiness_df[\"Freedom to make life choices\"]\n",
    "plt.bar(x_cities,transportation_score,color=\"b\",alpha=0.5,align=\"center\")\n",
    "# plt.plot(x_cities,city_area,color=\"y\",label=\"City Area (miles^)\")\n",
    "# plt.legend(loc=\"upper right\")\n",
    "plt.xticks(rotation=90)\n",
    "plt.title(\"Transportation Scores\")\n",
    "plt.xlabel(\"Cities\")\n",
    "plt.ylabel(\"Score\")"
   ]
  }
 ],
 "metadata": {
  "kernelspec": {
   "display_name": "Python (PythonData)",
   "language": "python",
   "name": "pythondata"
  },
  "language_info": {
   "codemirror_mode": {
    "name": "ipython",
    "version": 3
   },
   "file_extension": ".py",
   "mimetype": "text/x-python",
   "name": "python",
   "nbconvert_exporter": "python",
   "pygments_lexer": "ipython3",
   "version": "3.6.12"
  }
 },
 "nbformat": 4,
 "nbformat_minor": 4
}
